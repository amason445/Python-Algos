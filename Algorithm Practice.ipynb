{
 "cells": [
  {
   "cell_type": "code",
   "execution_count": null,
   "metadata": {},
   "outputs": [],
   "source": [
    "# applied algos from various textbook problems\n",
    "x = int(input('Enter X: '))\n",
    "y = int(input('Enter Y: '))\n",
    "z = int(input('Enter Z: '))\n",
    "answer = min(x, y, z)\n",
    "if x%2 != 0:\n",
    "    answer = x\n",
    "if y%2 != 0 and y > answer:\n",
    "    answer = y\n",
    "if z%2 != 0 and z > answer:\n",
    "    answer = z\n",
    "print(answer)\n",
    "    "
   ]
  },
  {
   "cell_type": "code",
   "execution_count": null,
   "metadata": {},
   "outputs": [],
   "source": [
    "x1 = input('Your birthdate: mm/dd/yyyy')\n",
    "print(x1[6:10])"
   ]
  },
  {
   "cell_type": "code",
   "execution_count": null,
   "metadata": {},
   "outputs": [],
   "source": [
    "num_x = int(input('How many times should I print the letter X? '))\n",
    "to_print = ''\n",
    "x = 0\n",
    "while x < num_x:\n",
    "    to_print = to_print + 'X'\n",
    "    x = x + 1\n",
    "print(to_print)"
   ]
  },
  {
   "cell_type": "code",
   "execution_count": null,
   "metadata": {},
   "outputs": [],
   "source": [
    "x2 = int(input('Enter an integer greater than 2: '))\n",
    "largest_divisor = None\n",
    "for guess in range (2,x2):\n",
    "    if x2%guess == 0:\n",
    "        largest_divisor = guess\n",
    "        break\n",
    "if largest_divisor != None:\n",
    "    print('Largest divisor of', x2, 'is', largest_divisor)\n",
    "else:\n",
    "    print(x2,'is a prime number')"
   ]
  },
  {
   "cell_type": "code",
   "execution_count": null,
   "metadata": {},
   "outputs": [],
   "source": [
    "for i in range(2):\n",
    "    print(i)\n",
    "    i = 0\n",
    "    print(i)"
   ]
  },
  {
   "cell_type": "code",
   "execution_count": null,
   "metadata": {},
   "outputs": [],
   "source": [
    "def sumofprimesto(x):\n",
    "    if x <= 1:\n",
    "        summ = 0\n",
    "    elif x == 2:\n",
    "        summ = 2\n",
    "    else:\n",
    "        summ = 2\n",
    "        for num in range(3, x + 1):\n",
    "          isPrime = True\n",
    "          for i in range(2, num):\n",
    "            if num % i == 0:\n",
    "              isPrime = False\n",
    "              break\n",
    "          if isPrime:\n",
    "            summ += num\n",
    "    return summ"
   ]
  },
  {
   "cell_type": "code",
   "execution_count": null,
   "metadata": {},
   "outputs": [],
   "source": [
    "test = [i for i in range(1,1001)]\n",
    "for x in test:\n",
    "    y = sumofprimesto(x)\n",
    "    print(y)"
   ]
  },
  {
   "cell_type": "code",
   "execution_count": null,
   "metadata": {},
   "outputs": [],
   "source": [
    "numbers = [2, 3, 5, 7, 11, 13, 17, 19, 23, 29, 31, 37, 41, 43, 47, 53, 59, 61, 67, 71, 73, 79, 83, \n",
    "    89, 97, 101, 103, 107, 109, 113, 127, 131, 137, 139, 149, 151, 157, 163, 167, 173, 179, \n",
    "    181, 191, 193, 197, 199, 211, 223, 227, 229, 233, 239, 241, 251, 257, 263, 269, 271, 277, \n",
    "    281, 283, 293, 307, 311, 313, 317, 331, 337, 347, 349, 353, 359, 367, 373, 379, 383, 389, 397, \n",
    "    401, 409, 419, 421, 431, 433, 439, 443, 449, 457, 461, 463, 467, 479, 487, 491, 499, 503, 509, 521, \n",
    "    523, 541, 547, 557, 563, 569, 571, 577, 587, 593, 599, 601, 607, 613, 617, 619, 631, 641, 643, 647, \n",
    "    653, 659, 661, 673, 677, 683, 691, 701, 709, 719, 727, 733, 739, 743, 751, 757, 761, 769, 773, 787, 797, \n",
    "    809, 811, 821, 823, 827, 829, 839, 853, 857, 859, 863, 877, 881, 883, 887, 907, 911, 919, 929, 937, 941, 947, \n",
    "    953, 967, 971, 977, 983, 991, 997]\n",
    "\n",
    "y = sum(numbers)\n",
    "print(y)"
   ]
  },
  {
   "cell_type": "code",
   "execution_count": null,
   "metadata": {},
   "outputs": [],
   "source": [
    "#smallest root and power algorithm\n",
    "def smallestroot(x3):\n",
    "    msg = ''\n",
    "    flag1 = False\n",
    "    root = 1\n",
    "    while root < x3 and flag1 == False:  \n",
    "        pwr = 0\n",
    "        while pwr < 8:\n",
    "            if root ** pwr == x3:\n",
    "                flag1 = True\n",
    "                break\n",
    "            pwr += 1\n",
    "        if flag1 == True:\n",
    "            break\n",
    "        root += 1\n",
    "    if flag1 == True:\n",
    "        msg = f'For {x3}, the root is {root} and the power is {pwr}'\n",
    "    elif flag1 == False:\n",
    "        msg = f'For {x3}, there is no smallest root'\n",
    "    else:\n",
    "        msg = 'error'\n",
    "    return msg"
   ]
  },
  {
   "cell_type": "code",
   "execution_count": null,
   "metadata": {},
   "outputs": [],
   "source": [
    "x3 = [i for i in range(0,1000)]\n",
    "for i1 in x3:\n",
    "    i2 = smallestroot(i1)\n",
    "    print(i2)"
   ]
  },
  {
   "cell_type": "code",
   "execution_count": null,
   "metadata": {},
   "outputs": [],
   "source": [
    "def smallestroot2(x4):\n",
    "    for root2 in range(1,x4):\n",
    "        for pwr2 in range(8):\n",
    "            if root2 ** pwr2 == x4:\n",
    "                return f'For {x4}, the root is {root2} and the power is {pwr2}'\n",
    "    return f'For {x4}, there is no smallest root'\n",
    "\n",
    "x4 = [i3 for i3 in range(0,1000)]\n",
    "for i3 in x4:\n",
    "    i4 = smallestroot(i3)\n",
    "    print(i4)"
   ]
  },
  {
   "cell_type": "code",
   "execution_count": null,
   "metadata": {},
   "outputs": [],
   "source": [
    "def smallestroot3(x5):\n",
    "    for pwr3 in range(2, x5.bit_length()):\n",
    "        root3 = x5 ** (1/pwr3)\n",
    "        if int(round(root3) ** pwr3) == x5 and root3 < x5:\n",
    "            return f'For {x5}, the root is {int(round(root3))} and the power is {pwr3}'\n",
    "    return f'For {x5}, there is no smallest root'\n",
    "\n",
    "for i in range(0, 1001):\n",
    "    print(smallestroot3(i))"
   ]
  },
  {
   "cell_type": "code",
   "execution_count": null,
   "metadata": {},
   "outputs": [],
   "source": [
    "def rootDifference(x6):\n",
    "    #smallest root\n",
    "    power1 = 0\n",
    "    smallest = 0\n",
    "    for pwr4 in reversed(range(2, x6.bit_length())):\n",
    "        root4 = x6 ** (1/pwr4)\n",
    "        if int(round(root4) ** pwr4) == x6 and root4 < x6:\n",
    "            power1 = pwr4\n",
    "            smallest = root4\n",
    "            break\n",
    "    \n",
    "    #largest root\n",
    "    power2 = 0\n",
    "    largest = 0\n",
    "    for pwr5 in range(2, x6.bit_length()):\n",
    "        root5 = x6 ** (1/pwr5)\n",
    "        if int(round(root5) ** pwr5) == x6 and root5 < x6:\n",
    "            power2 = pwr5\n",
    "            largest = root5\n",
    "            break\n",
    "            \n",
    "    #return difference\n",
    "    if abs(largest - smallest) != 0:\n",
    "        return (f'The number, {x6} has the root range of {abs(largest - smallest)}' + '\\n' +\n",
    "                f'    For {x6}, the smallest root is {smallest} with index {power1}' + '\\n' +\n",
    "                f'    For {x6}, the largest root is {largest} with index {power2}')\n",
    "    elif abs(largest - smallest) == 0 and power1 == power2:\n",
    "        return f'For the number {x6}, the range is 0 and the index is {power1}'\n",
    "    else:\n",
    "        None\n",
    "\n",
    "#test function\n",
    "for test in range(0,10000):\n",
    "    print(rootDifference(test))"
   ]
  },
  {
   "cell_type": "code",
   "execution_count": null,
   "metadata": {},
   "outputs": [],
   "source": [
    "x9 = int(input('Your int here:'))\n",
    "y9 = int(input('Your int here:'))\n",
    "output = lambda x9, y9: None if y9 == 0 else x9/y9\n",
    "print(output(x9,y9))"
   ]
  },
  {
   "cell_type": "code",
   "execution_count": 6,
   "metadata": {},
   "outputs": [
    {
     "name": "stdout",
     "output_type": "stream",
     "text": [
      "6.5\n"
     ]
    }
   ],
   "source": [
    "x = (2,6,8,10)\n",
    "def tupmean(x):\n",
    "    return s\n",
    "sum(x)/len(x)\n",
    "print(tupmean(x))"
   ]
  },
  {
   "cell_type": "code",
   "execution_count": null,
   "metadata": {},
   "outputs": [],
   "source": []
  },
  {
   "cell_type": "code",
   "execution_count": null,
   "metadata": {},
   "outputs": [],
   "source": []
  }
 ],
 "metadata": {
  "kernelspec": {
   "display_name": "Python 3",
   "language": "python",
   "name": "python3"
  },
  "language_info": {
   "codemirror_mode": {
    "name": "ipython",
    "version": 3
   },
   "file_extension": ".py",
   "mimetype": "text/x-python",
   "name": "python",
   "nbconvert_exporter": "python",
   "pygments_lexer": "ipython3",
   "version": "3.8.7"
  }
 },
 "nbformat": 4,
 "nbformat_minor": 4
}
