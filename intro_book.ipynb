{
 "cells": [
  {
   "cell_type": "code",
   "execution_count": 1,
   "metadata": {},
   "outputs": [],
   "source": [
    "import pandas as pd\n",
    "import numpy as npp\n",
    "import random as rd"
   ]
  },
  {
   "cell_type": "code",
   "execution_count": null,
   "metadata": {},
   "outputs": [],
   "source": [
    "x = rd.randint(0,100)\n",
    "y = rd.randint(0,100)\n",
    "z = rd.randint(0,100)\n",
    "\n",
    "if x%2 and y%2 and z%2 == 0:\n",
    "    print(\"No Odd Numbers Exist\")\n",
    "elif x%2 or y%2 or z%2 > 0:\n",
    "    if x > y and x > z:\n",
    "        print(\"X is the greatest odd and = \", x)\n",
    "    elif y > x and y > z:\n",
    "        print(\"Y is the greatest odd and = \", y)\n",
    "    else:\n",
    "        print(\"Z is the greatest odd and = \", z)\n",
    "else:\n",
    "    print(\"Error\")"
   ]
  },
  {
   "cell_type": "code",
   "execution_count": null,
   "metadata": {},
   "outputs": [],
   "source": [
    "x = 1\n",
    "while True:\n",
    "    if x%11 == 0 and x%12 == 0:\n",
    "        break\n",
    "    x = x + 1\n",
    "print(x, 'is divisible by 11 and 12')"
   ]
  },
  {
   "cell_type": "code",
   "execution_count": null,
   "metadata": {},
   "outputs": [],
   "source": [
    "x = int(input(\"Pick a number:\"))\n",
    "y = int(input(\"Pick a number:\"))\n",
    "z = int(input(\"Pick a number:\"))\n",
    "\n",
    "if x%2 and y%2 and z%2 == 0:\n",
    "    print(\"No Odd Numbers Exist\")\n",
    "elif x%2 or y%2 or z%2 > 0:\n",
    "    if x > y and x > z:\n",
    "        print(\"X is the greatest odd and = \", x)\n",
    "    elif y > x and y > z:\n",
    "        print(\"Y is the greatest odd and = \", y)\n",
    "    else:\n",
    "        print(\"Z is the greatest odd and = \", z)\n",
    "else:\n",
    "    print(\"Error\")"
   ]
  },
  {
   "cell_type": "code",
   "execution_count": null,
   "metadata": {},
   "outputs": [],
   "source": [
    "#Find the cube root of a perfect cube\n",
    "x = int(input('Enter an integer: '))\n",
    "ans = 0\n",
    "while ans**3 < abs(x):\n",
    "    ans = ans + 1\n",
    "if ans**3 != abs(x):\n",
    "    print(x, 'is not a perfect cube')\n",
    "else:\n",
    "    if x < 0:\n",
    "        ans = -ans\n",
    "    print('Cube root of', x,'is', ans)"
   ]
  },
  {
   "cell_type": "code",
   "execution_count": null,
   "metadata": {},
   "outputs": [],
   "source": [
    "maxVal = int(input('Enter a postive integer: '))\n",
    "i = 0\n",
    "while i < maxVal:\n",
    "    i = i + 1\n",
    "print(i)"
   ]
  },
  {
   "cell_type": "code",
   "execution_count": null,
   "metadata": {},
   "outputs": [],
   "source": [
    "x = 639\n",
    "epsilon = 0.01\n",
    "step = epsilon**2\n",
    "numGuesses = 0\n",
    "ans = 0.0\n",
    "while abs(ans**2 - x) >= epsilon and ans <= x:\n",
    "    ans += step\n",
    "    numGuesses += 1\n",
    "print('numGuesses =', numGuesses)\n",
    "if abs(ans**2 - x) >= epsilon:\n",
    "    print('Failed on square root of', x)\n",
    "else:\n",
    "    print(ans, 'is close to square root of', x)"
   ]
  },
  {
   "cell_type": "code",
   "execution_count": 19,
   "metadata": {},
   "outputs": [
    {
     "name": "stdin",
     "output_type": "stream",
     "text": [
      "Input Integer: 4\n"
     ]
    },
    {
     "name": "stdout",
     "output_type": "stream",
     "text": [
      "Success\n",
      "Root =  2\n",
      "Power =  2\n"
     ]
    }
   ],
   "source": [
    "int1 = int(input(\"Input Integer:\"))\n",
    "root = 0\n",
    "pwr = 0\n",
    "while abs(root) <= int1:\n",
    "    root += 1\n",
    "    if pwr <= 6:\n",
    "        pwr += 1\n",
    "        if abs(root ** pwr) == int1:\n",
    "            print(\"Success\")\n",
    "            print(\"Root = \", root)\n",
    "            print('Power = ', pwr)\n",
    "            break\n",
    "    else:\n",
    "        pwr = 0"
   ]
  },
  {
   "cell_type": "code",
   "execution_count": 16,
   "metadata": {},
   "outputs": [
    {
     "data": {
      "text/plain": [
       "6.753"
      ]
     },
     "execution_count": 16,
     "metadata": {},
     "output_type": "execute_result"
    }
   ],
   "source": [
    "sum1 = 0\n",
    "s = '1.23,2.4,3.123'\n",
    "total = sum(float(i) for i in s.split(','))\n",
    "total"
   ]
  },
  {
   "cell_type": "code",
   "execution_count": 15,
   "metadata": {},
   "outputs": [
    {
     "data": {
      "text/plain": [
       "['1']"
      ]
     },
     "execution_count": 15,
     "metadata": {},
     "output_type": "execute_result"
    }
   ],
   "source": [
    "a"
   ]
  },
  {
   "cell_type": "code",
   "execution_count": 19,
   "metadata": {},
   "outputs": [
    {
     "name": "stdout",
     "output_type": "stream",
     "text": [
      "numGuesses = 17697\n",
      "1.7696999999998215 is close to square root of 3.141592653589793\n"
     ]
    }
   ],
   "source": [
    "import math\n",
    "x = math.pi\n",
    "epsilon = 0.01\n",
    "step = epsilon**2\n",
    "numGuesses = 0\n",
    "ans = 0.0\n",
    "while abs(ans**2 - x) >= epsilon and ans <= x:\n",
    "    ans += step\n",
    "    numGuesses += 1\n",
    "print('numGuesses =', numGuesses)\n",
    "if abs(ans**2 - x) >= epsilon:\n",
    "    print('Failed on square root of', x)\n",
    "else:\n",
    "    print(ans, 'is close to square root of', x)"
   ]
  },
  {
   "cell_type": "code",
   "execution_count": 20,
   "metadata": {},
   "outputs": [
    {
     "name": "stdout",
     "output_type": "stream",
     "text": [
      "low = 0.0 high = 500 ans = 250.0\n",
      "low = 0.0 high = 250.0 ans = 125.0\n",
      "low = 0.0 high = 125.0 ans = 62.5\n",
      "low = 0.0 high = 62.5 ans = 31.25\n",
      "low = 0.0 high = 31.25 ans = 15.625\n",
      "low = 15.625 high = 31.25 ans = 23.4375\n",
      "low = 15.625 high = 23.4375 ans = 19.53125\n",
      "low = 19.53125 high = 23.4375 ans = 21.484375\n",
      "low = 21.484375 high = 23.4375 ans = 22.4609375\n",
      "low = 21.484375 high = 22.4609375 ans = 21.97265625\n",
      "low = 21.97265625 high = 22.4609375 ans = 22.216796875\n",
      "low = 22.216796875 high = 22.4609375 ans = 22.3388671875\n",
      "low = 22.3388671875 high = 22.4609375 ans = 22.39990234375\n",
      "low = 22.3388671875 high = 22.39990234375 ans = 22.369384765625\n",
      "low = 22.3388671875 high = 22.369384765625 ans = 22.3541259765625\n",
      "low = 22.3541259765625 high = 22.369384765625 ans = 22.36175537109375\n",
      "low = 22.3541259765625 high = 22.36175537109375 ans = 22.357940673828125\n",
      "low = 22.357940673828125 high = 22.36175537109375 ans = 22.359848022460938\n",
      "numGuesses = 18\n",
      "22.360801696777344 is close to square root of 500\n"
     ]
    }
   ],
   "source": [
    "x = 500\n",
    "epsilon = 0.01\n",
    "numGuesses = 0\n",
    "low = 0.0\n",
    "high = max(1.0, x)\n",
    "ans = (high + low)/2.0\n",
    "while abs(ans**2 - x) >= epsilon:\n",
    "    print('low =', low, 'high =', high, 'ans =', ans)\n",
    "    numGuesses += 1\n",
    "    if ans**2 < x:\n",
    "        low = ans\n",
    "    else:\n",
    "        high = ans\n",
    "    ans = (high + low)/2.0\n",
    "print('numGuesses =', numGuesses)\n",
    "print(ans, 'is close to square root of', x)"
   ]
  },
  {
   "cell_type": "code",
   "execution_count": null,
   "metadata": {},
   "outputs": [],
   "source": []
  }
 ],
 "metadata": {
  "kernelspec": {
   "display_name": "Python 3",
   "language": "python",
   "name": "python3"
  },
  "language_info": {
   "codemirror_mode": {
    "name": "ipython",
    "version": 3
   },
   "file_extension": ".py",
   "mimetype": "text/x-python",
   "name": "python",
   "nbconvert_exporter": "python",
   "pygments_lexer": "ipython3",
   "version": "3.7.7"
  }
 },
 "nbformat": 4,
 "nbformat_minor": 4
}
